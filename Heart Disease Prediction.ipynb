# Import the libraries 
import numpy as np # To work with arrays 
import pandas as pd # To work with the data
# Importing Sk learn libraries/ Modules 
from sklearn.model_selection import train_test_split # Module to split the data into training and testing 
from sklearn.linear_model import LogisticRegression # To build the model
from sklearn.metrics import accuracy_score # Evaluation 

# Improting the data 

df = pd.read_csv("Data/heart_disease_data.csv")

# First 5 Records 
df.head()

df.tail()

# Getting the dimension of our data
df.shape

df.info()

# missing values 
df.isnull().sum()

# Descriptive statistics 
df.describe()

df['target'].value_counts()

#1  →  Heart Disease
#0  →  Healthy patient.

#Splitting Features and Target
X = df.drop(columns='target', axis=1)
X

Y = df['target']
Y

#Training and Testing
X_train , X_test, Y_train, Y_test = train_test_split(X, Y, test_size=0.2, stratify=Y, random_state=42)
X.shape

X_train.shape

X_test.shape

Y_train.shape

Y_test.shape

#Model Building 
#LogisticRegression is used to create the model where end of the it is a binary classification.

model = LogisticRegression()
# Train the model 
model.fit(X_train, Y_train)

#Evaluation
X_train_prediction = model.predict(X_train) 
training_accuracy = accuracy_score(X_train_prediction, Y_train)
print(f" The training accuracy is {training_accuracy}")

# aaccuracy_score on testing data 

X_test_prediction = model.predict(X_test) 
testing_accuracy = accuracy_score(X_test_prediction, Y_test)
print(f" The testing accuracy is {testing_accuracy}")

#Building the Predicting system :

# Tuple of the feature data --> Which is my input
input_data = (51,1,3,125,213,0,0,125,1,1.4,2,1,2)

# Converting it into a numpy array
input_data = np.asarray(input_data) 

# Reshaping into requred input form
input_data = input_data.reshape(1,-1) 

# With the input I am predicting 
prediction = model.predict(input_data)
prediction 

if prediction[0] == 0:
    print("Good News the patient does'nt have any heart disease")
else: 
    print("The Patient should visit the doctor")
